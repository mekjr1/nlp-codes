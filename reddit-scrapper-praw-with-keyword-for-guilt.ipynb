{
 "cells": [
  {
   "cell_type": "code",
   "execution_count": 1,
   "id": "08fd4eb4",
   "metadata": {
    "_cell_guid": "b1076dfc-b9ad-4769-8c92-a6c4dae69d19",
    "_uuid": "8f2839f25d086af736a60e9eeb907d3b93b6e0e5",
    "execution": {
     "iopub.execute_input": "2022-08-31T01:22:42.561406Z",
     "iopub.status.busy": "2022-08-31T01:22:42.560226Z",
     "iopub.status.idle": "2022-08-31T01:22:56.224846Z",
     "shell.execute_reply": "2022-08-31T01:22:56.223817Z"
    },
    "papermill": {
     "duration": 13.674729,
     "end_time": "2022-08-31T01:22:56.227983",
     "exception": false,
     "start_time": "2022-08-31T01:22:42.553254",
     "status": "completed"
    },
    "tags": []
   },
   "outputs": [
    {
     "name": "stdout",
     "output_type": "stream",
     "text": [
      "Collecting psaw\r\n",
      "  Downloading psaw-0.1.0-py3-none-any.whl (15 kB)\r\n",
      "Requirement already satisfied: Click in /opt/conda/lib/python3.7/site-packages (from psaw) (8.0.4)\r\n",
      "Requirement already satisfied: requests in /opt/conda/lib/python3.7/site-packages (from psaw) (2.28.1)\r\n",
      "Requirement already satisfied: importlib-metadata in /opt/conda/lib/python3.7/site-packages (from Click->psaw) (4.12.0)\r\n",
      "Requirement already satisfied: idna<4,>=2.5 in /opt/conda/lib/python3.7/site-packages (from requests->psaw) (3.3)\r\n",
      "Requirement already satisfied: urllib3<1.27,>=1.21.1 in /opt/conda/lib/python3.7/site-packages (from requests->psaw) (1.26.9)\r\n",
      "Requirement already satisfied: certifi>=2017.4.17 in /opt/conda/lib/python3.7/site-packages (from requests->psaw) (2022.6.15)\r\n",
      "Requirement already satisfied: charset-normalizer<3,>=2 in /opt/conda/lib/python3.7/site-packages (from requests->psaw) (2.1.0)\r\n",
      "Requirement already satisfied: typing-extensions>=3.6.4 in /opt/conda/lib/python3.7/site-packages (from importlib-metadata->Click->psaw) (4.1.1)\r\n",
      "Requirement already satisfied: zipp>=0.5 in /opt/conda/lib/python3.7/site-packages (from importlib-metadata->Click->psaw) (3.8.0)\r\n",
      "Installing collected packages: psaw\r\n",
      "Successfully installed psaw-0.1.0\r\n",
      "\u001b[33mWARNING: Running pip as the 'root' user can result in broken permissions and conflicting behaviour with the system package manager. It is recommended to use a virtual environment instead: https://pip.pypa.io/warnings/venv\u001b[0m\u001b[33m\r\n",
      "\u001b[0m"
     ]
    }
   ],
   "source": [
    "# This Python 3 environment comes with many helpful analytics libraries installed\n",
    "# It is defined by the kaggle/python Docker image: https://github.com/kaggle/docker-python\n",
    "# For example, here's several helpful packages to load\n",
    "\n",
    "import numpy as np # linear algebra\n",
    "import pandas as pd # data processing, CSV file I/O (e.g. pd.read_csv)\n",
    "\n",
    "# Input data files are available in the read-only \"../input/\" directory\n",
    "# For example, running this (by clicking run or pressing Shift+Enter) will list all files under the input directory\n",
    "\n",
    "import os\n",
    "for dirname, _, filenames in os.walk('/kaggle/input'):\n",
    "    for filename in filenames:\n",
    "        print(os.path.join(dirname, filename))\n",
    "\n",
    "# You can write up to 20GB to the current directory (/kaggle/working/) that gets preserved as output when you create a version using \"Save & Run All\" \n",
    "# You can also write temporary files to /kaggle/temp/, but they won't be saved outside of the current session\n",
    "!pip install psaw\n",
    "#import praw\n",
    "#from praw.models  import MoreComments\n",
    "\n",
    "from psaw import PushshiftAPI\n",
    "from datetime import datetime as dt\n",
    "\n",
    "\n",
    "import glob\n",
    "\n",
    "\n",
    "pd.set_option('max_colwidth', 500)\n",
    "pd.set_option('max_columns', 50)"
   ]
  },
  {
   "cell_type": "code",
   "execution_count": 2,
   "id": "e9b4eaae",
   "metadata": {
    "execution": {
     "iopub.execute_input": "2022-08-31T01:22:56.238591Z",
     "iopub.status.busy": "2022-08-31T01:22:56.237935Z",
     "iopub.status.idle": "2022-08-31T01:22:56.247650Z",
     "shell.execute_reply": "2022-08-31T01:22:56.246345Z"
    },
    "papermill": {
     "duration": 0.017811,
     "end_time": "2022-08-31T01:22:56.249874",
     "exception": false,
     "start_time": "2022-08-31T01:22:56.232063",
     "status": "completed"
    },
    "tags": []
   },
   "outputs": [
    {
     "data": {
      "text/plain": [
       "\"reddit = praw.Reddit(\\n    client_id='CO7FMREhxmYQEmYL9_qmZw', \\n    client_secret='R0OqI7MB8QNnHvzo0lMvnCohfvGi4Q', \\n    user_agent='my_user_agent')\""
      ]
     },
     "execution_count": 2,
     "metadata": {},
     "output_type": "execute_result"
    }
   ],
   "source": [
    "\"\"\"reddit = praw.Reddit(\n",
    "    client_id='CO7FMREhxmYQEmYL9_qmZw', \n",
    "    client_secret='R0OqI7MB8QNnHvzo0lMvnCohfvGi4Q', \n",
    "    user_agent='my_user_agent')\"\"\""
   ]
  },
  {
   "cell_type": "code",
   "execution_count": 3,
   "id": "f09e3d1f",
   "metadata": {
    "execution": {
     "iopub.execute_input": "2022-08-31T01:22:56.259112Z",
     "iopub.status.busy": "2022-08-31T01:22:56.258720Z",
     "iopub.status.idle": "2022-08-31T01:22:56.271820Z",
     "shell.execute_reply": "2022-08-31T01:22:56.270686Z"
    },
    "papermill": {
     "duration": 0.020681,
     "end_time": "2022-08-31T01:22:56.274348",
     "exception": false,
     "start_time": "2022-08-31T01:22:56.253667",
     "status": "completed"
    },
    "tags": []
   },
   "outputs": [],
   "source": [
    "keywords =[\"with guilt\",\"saddled\", \"the guilt\" ,\"compunction\", \"misgiving\", \"prick\", \"qualm\", \"scruple\"]\n",
    "\n",
    "keywords2=[\"fault\",\"liability\", \"rap\", \"responsibility\",\"chagrin\", \"sorrow\",\"bloodguilt\", \"bloodguiltiness\"]\n",
    "\n",
    "keywords3=[\"apology\", \"excuses\", \"hand-wringing\", \"mea culpa\",\"contriteness\", \"contrition\", \"penitence\", \"regret\"]\n",
    "keywords4=[\"embarrassment\",\"anguish\", \"distress\", \"grief\", \"ruth\", \"sadness\",\"remorsefulness\", \"repentance\"]\n",
    "keywords5=[\"blame\", \"culpability\",\" remorse\",\"rue\", \"self-reproach\", \"shame\"]\n",
    "\n",
    "subreddits=['confessions', 'confession']"
   ]
  },
  {
   "cell_type": "code",
   "execution_count": 4,
   "id": "30aedee5",
   "metadata": {
    "execution": {
     "iopub.execute_input": "2022-08-31T01:22:56.283653Z",
     "iopub.status.busy": "2022-08-31T01:22:56.283259Z",
     "iopub.status.idle": "2022-08-31T02:56:37.510393Z",
     "shell.execute_reply": "2022-08-31T02:56:37.509028Z"
    },
    "papermill": {
     "duration": 5621.23551,
     "end_time": "2022-08-31T02:56:37.513707",
     "exception": false,
     "start_time": "2022-08-31T01:22:56.278197",
     "status": "completed"
    },
    "tags": []
   },
   "outputs": [
    {
     "name": "stderr",
     "output_type": "stream",
     "text": [
      "/opt/conda/lib/python3.7/site-packages/psaw/PushshiftAPI.py:252: UserWarning: Not all PushShift shards are active. Query results may be incomplete\n",
      "  warnings.warn(shards_down_message)\n"
     ]
    },
    {
     "name": "stdout",
     "output_type": "stream",
     "text": [
      "2012 Jan 01\n",
      "2012 Apr 09\n",
      "2012 Jul 18\n",
      "2012 Oct 25\n",
      "DataFrame is empty!\n",
      "DataFrame is empty!\n",
      "DataFrame is empty!\n",
      "2013 Nov 27\n",
      "2014 Mar 07\n",
      "2014 Jun 14\n",
      "2014 Sep 22\n",
      "2014 Dec 30\n",
      "2015 Apr 09\n",
      "2015 Jul 17\n",
      "2015 Oct 25\n",
      "2016 Feb 02\n",
      "2016 May 11\n",
      "2016 Aug 19\n",
      "2016 Nov 26\n",
      "2017 Mar 06\n",
      "2017 Jun 13\n",
      "2017 Sep 21\n",
      "2017 Dec 29\n",
      "2018 Apr 08\n",
      "2018 Jul 16\n",
      "2018 Oct 24\n",
      "2019 Jan 31\n",
      "2019 May 11\n",
      "2019 Aug 19\n",
      "2019 Nov 26\n",
      "2020 Mar 05\n",
      "2020 Jun 12\n"
     ]
    },
    {
     "name": "stderr",
     "output_type": "stream",
     "text": [
      "/opt/conda/lib/python3.7/site-packages/psaw/PushshiftAPI.py:192: UserWarning: Got non 200 code 504\n",
      "  warnings.warn(\"Got non 200 code %s\" % response.status_code)\n",
      "/opt/conda/lib/python3.7/site-packages/psaw/PushshiftAPI.py:180: UserWarning: Unable to connect to pushshift.io. Retrying after backoff.\n",
      "  warnings.warn(\"Unable to connect to pushshift.io. Retrying after backoff.\")\n"
     ]
    },
    {
     "name": "stdout",
     "output_type": "stream",
     "text": [
      "2020 Sep 20\n",
      "2020 Dec 28\n",
      "2021 Apr 07\n",
      "2021 Jul 15\n",
      "2021 Oct 23\n",
      "2022 Jan 30\n",
      "2012 Jan 01\n",
      "2012 Apr 09\n",
      "2012 Jul 18\n",
      "2012 Oct 25\n",
      "DataFrame is empty!\n",
      "DataFrame is empty!\n",
      "DataFrame is empty!\n",
      "2013 Nov 27\n",
      "2014 Mar 07\n",
      "2014 Jun 14\n",
      "2014 Sep 22\n",
      "2014 Dec 30\n",
      "2015 Apr 09\n",
      "2015 Jul 17\n",
      "2015 Oct 25\n",
      "2016 Feb 02\n",
      "2016 May 11\n",
      "2016 Aug 19\n",
      "2016 Nov 26\n",
      "2017 Mar 06\n",
      "2017 Jun 13\n",
      "2017 Sep 21\n",
      "2017 Dec 29\n",
      "2018 Apr 08\n",
      "2018 Jul 16\n",
      "2018 Oct 24\n",
      "2019 Jan 31\n",
      "2019 May 11\n",
      "2019 Aug 19\n",
      "2019 Nov 26\n",
      "2020 Mar 05\n",
      "2020 Jun 12\n",
      "2020 Sep 20\n",
      "2020 Dec 28\n",
      "2021 Apr 07\n",
      "2021 Jul 15\n",
      "2021 Oct 23\n",
      "2022 Jan 30\n"
     ]
    }
   ],
   "source": [
    "api = PushshiftAPI()\n",
    "\n",
    " \n",
    "\n",
    "\n",
    "for keyword in subreddits:\n",
    "    start_epoch=int(dt(2012, 1, 1).timestamp()) #start_date\n",
    "    end_epoch=int(dt(2022, 1, 31).timestamp()) #end_date \n",
    "    while start_epoch < end_epoch + 86200:    \n",
    "        api_request_generator =  api.search_submissions(subreddit=keyword, after = start_epoch, before = start_epoch + 8620000) \n",
    "    # You can change the name of the Subreddit \n",
    "    # 86200 * n // n = duration of collection  (here, duration is 10 days)\n",
    "        aita_submissions = pd.DataFrame([submission.d_ for submission in api_request_generator])\n",
    "        \n",
    "        if aita_submissions.empty:\n",
    "            print('DataFrame is empty!')\n",
    "        else:\n",
    "            \n",
    "            aita_submissions['date'] = pd.to_datetime(aita_submissions['created_utc'], utc=True, unit='s')\n",
    "            aita_central = aita_submissions[['author', 'date', 'title', 'selftext', 'permalink', 'subreddit', 'score', 'num_comments' ]]\n",
    "\n",
    "            start_date = dt.fromtimestamp(start_epoch)\n",
    "            dateStr = start_date.strftime(\"%Y %b %d\")\n",
    "            print(dateStr)\n",
    "            \n",
    "            aita_central.to_csv(r\"sub_\" + keyword+dateStr + \".csv\", index = False, header = True)\n",
    "        \n",
    "        start_epoch += 8600000 # 86000 * duration of collection \"\"\"\n",
    "\n",
    "\n",
    "start_epoch=int(dt(2012, 3, 1).timestamp()) #start_date\n",
    "end_epoch=int(dt(2022, 1, 31).timestamp()) #end_date "
   ]
  },
  {
   "cell_type": "code",
   "execution_count": 5,
   "id": "ba6ddc08",
   "metadata": {
    "execution": {
     "iopub.execute_input": "2022-08-31T02:56:37.532853Z",
     "iopub.status.busy": "2022-08-31T02:56:37.532068Z",
     "iopub.status.idle": "2022-08-31T02:56:58.659173Z",
     "shell.execute_reply": "2022-08-31T02:56:58.657682Z"
    },
    "papermill": {
     "duration": 21.140055,
     "end_time": "2022-08-31T02:56:58.662168",
     "exception": false,
     "start_time": "2022-08-31T02:56:37.522113",
     "status": "completed"
    },
    "tags": []
   },
   "outputs": [],
   "source": [
    "extension = 'csv' \n",
    "all_filenames = [i for i in glob.glob('*.{}'.format(extension))]\n",
    "\n",
    "#combine all files in the list\n",
    "combined_csv = pd.concat([pd.read_csv(f) for f in all_filenames ]) \n",
    "#export to csv\n",
    "combined_csv.to_csv( \"submission_confessions_confessions.csv\", index=False, encoding='utf-8-sig')"
   ]
  },
  {
   "cell_type": "code",
   "execution_count": 6,
   "id": "ab508278",
   "metadata": {
    "execution": {
     "iopub.execute_input": "2022-08-31T02:56:58.681188Z",
     "iopub.status.busy": "2022-08-31T02:56:58.680785Z",
     "iopub.status.idle": "2022-08-31T02:57:07.783455Z",
     "shell.execute_reply": "2022-08-31T02:57:07.781775Z"
    },
    "papermill": {
     "duration": 9.115319,
     "end_time": "2022-08-31T02:57:07.786046",
     "exception": false,
     "start_time": "2022-08-31T02:56:58.670727",
     "status": "completed"
    },
    "tags": []
   },
   "outputs": [
    {
     "name": "stdout",
     "output_type": "stream",
     "text": [
      "Initial Size: (540836, 8)\n",
      "After Droping null Size: (496329, 8)\n",
      "After Droping Duplicates Size: (495229, 8)\n",
      "After Droping [removed] Size: (371925, 9)\n",
      "After Droping [deleted] Size: (351798, 9)\n",
      "After Droping 'deleted' Size: (351795, 9)\n",
      "After Droping 'removed' Size: (351793, 9)\n",
      "After Droping less than 40 Size: (286284, 9)\n",
      "After Droping more than 100 Size: (82746, 9)\n",
      "Final Size: (82746, 9)\n"
     ]
    }
   ],
   "source": [
    "\n",
    "data = combined_csv\n",
    "print(\"Initial Size:\", data.shape)\n",
    "data.dropna(inplace = True)\n",
    "print(\"After Droping null Size:\", data.shape)\n",
    "data.drop_duplicates(inplace=True)\n",
    "print(\"After Droping Duplicates Size:\", data.shape)\n",
    "data['w_counts']=data['selftext'].apply(lambda x: len(str(x).split(' ')))\n",
    "data = data[data[\"selftext\"] != \"[removed]\"]\n",
    "print(\"After Droping [removed] Size:\", data.shape)\n",
    "data = data[data[\"selftext\"] != \"[deleted]\"]\n",
    "print(\"After Droping [deleted] Size:\", data.shape)\n",
    "data = data[data[\"selftext\"] != \"deleted\"]\n",
    "print(\"After Droping 'deleted' Size:\", data.shape)\n",
    "data = data[data[\"selftext\"] != \"removed\"]\n",
    "print(\"After Droping 'removed' Size:\", data.shape)\n",
    "data=data[data[\"w_counts\"]>40]\n",
    "print(\"After Droping less than 40 Size:\", data.shape)\n",
    "data=data[data[\"w_counts\"]<100]\n",
    "print(\"After Droping more than 100 Size:\", data.shape)\n",
    "       \n",
    "print(\"Final Size:\", data.shape)"
   ]
  },
  {
   "cell_type": "code",
   "execution_count": 7,
   "id": "2b00f242",
   "metadata": {
    "execution": {
     "iopub.execute_input": "2022-08-31T02:57:07.806020Z",
     "iopub.status.busy": "2022-08-31T02:57:07.805037Z",
     "iopub.status.idle": "2022-08-31T02:57:08.017916Z",
     "shell.execute_reply": "2022-08-31T02:57:08.016508Z"
    },
    "papermill": {
     "duration": 0.226545,
     "end_time": "2022-08-31T02:57:08.021145",
     "exception": false,
     "start_time": "2022-08-31T02:57:07.794600",
     "status": "completed"
    },
    "tags": []
   },
   "outputs": [],
   "source": [
    "final_sample=data.sample(n=12000)\n",
    "final_sample.to_csv( \"12k_confessions_confessions_to_annotate.csv\", index=False, encoding='utf-8-sig')"
   ]
  },
  {
   "cell_type": "code",
   "execution_count": 8,
   "id": "afe8e406",
   "metadata": {
    "execution": {
     "iopub.execute_input": "2022-08-31T02:57:08.103037Z",
     "iopub.status.busy": "2022-08-31T02:57:08.102597Z",
     "iopub.status.idle": "2022-08-31T02:57:08.344434Z",
     "shell.execute_reply": "2022-08-31T02:57:08.342799Z"
    },
    "papermill": {
     "duration": 0.317229,
     "end_time": "2022-08-31T02:57:08.347409",
     "exception": false,
     "start_time": "2022-08-31T02:57:08.030180",
     "status": "completed"
    },
    "tags": []
   },
   "outputs": [],
   "source": [
    "for i,d in enumerate(np.array_split(final_sample,12)):\n",
    "\n",
    "    d.to_csv( str(i)+\"slice_12.csv\", index=False, encoding='utf-8-sig')\n",
    "    "
   ]
  }
 ],
 "metadata": {
  "kernelspec": {
   "display_name": "Python 3",
   "language": "python",
   "name": "python3"
  },
  "language_info": {
   "codemirror_mode": {
    "name": "ipython",
    "version": 3
   },
   "file_extension": ".py",
   "mimetype": "text/x-python",
   "name": "python",
   "nbconvert_exporter": "python",
   "pygments_lexer": "ipython3",
   "version": "3.7.12"
  },
  "papermill": {
   "default_parameters": {},
   "duration": 5676.499505,
   "end_time": "2022-08-31T02:57:09.597296",
   "environment_variables": {},
   "exception": null,
   "input_path": "__notebook__.ipynb",
   "output_path": "__notebook__.ipynb",
   "parameters": {},
   "start_time": "2022-08-31T01:22:33.097791",
   "version": "2.3.4"
  }
 },
 "nbformat": 4,
 "nbformat_minor": 5
}
